{
 "cells": [
  {
   "cell_type": "markdown",
   "metadata": {
    "editable": true,
    "id": "xYySsO0kz2d3",
    "tags": []
   },
   "source": [
    "# Import libs"
   ]
  },
  {
   "cell_type": "code",
   "execution_count": 1,
   "metadata": {},
   "outputs": [
    {
     "name": "stdout",
     "output_type": "stream",
     "text": [
      "Requirement already satisfied: tqdm in c:\\users\\yurimomo\\anaconda3\\envs\\py310\\lib\\site-packages (4.66.1)\n",
      "Requirement already satisfied: colorama in c:\\users\\yurimomo\\anaconda3\\envs\\py310\\lib\\site-packages (from tqdm) (0.4.6)\n",
      "Note: you may need to restart the kernel to use updated packages.\n"
     ]
    }
   ],
   "source": [
    "pip install tqdm"
   ]
  },
  {
   "cell_type": "code",
   "execution_count": 2,
   "metadata": {
    "id": "qLIInOv5tRFI",
    "tags": []
   },
   "outputs": [],
   "source": [
    "import collections\n",
    "import matplotlib.pyplot as plt\n",
    "\n",
    "import numpy as np\n",
    "import torch\n",
    "import torch.optim as optim\n",
    "from torchvision.transforms import Compose, ToTensor, Normalize, ToPILImage, Resize\n",
    "from tqdm import tqdm"
   ]
  },
  {
   "cell_type": "markdown",
   "metadata": {
    "id": "Wmq_QJKQz64x",
    "tags": []
   },
   "source": [
    "# Import RetinaNet architecture"
   ]
  },
  {
   "cell_type": "code",
   "execution_count": 3,
   "metadata": {
    "colab": {
     "base_uri": "https://localhost:8080/"
    },
    "id": "-eXSVjxg1C99",
    "outputId": "97ccce34-a137-498c-8812-a57cbd766481",
    "tags": []
   },
   "outputs": [
    {
     "name": "stdout",
     "output_type": "stream",
     "text": [
      "Requirement already satisfied: gdown in c:\\users\\yurimomo\\anaconda3\\envs\\py310\\lib\\site-packages (4.7.1)\n",
      "Requirement already satisfied: pycocotools in c:\\users\\yurimomo\\anaconda3\\envs\\py310\\lib\\site-packages (2.0.7)\n",
      "Requirement already satisfied: filelock in c:\\users\\yurimomo\\anaconda3\\envs\\py310\\lib\\site-packages (from gdown) (3.9.0)\n",
      "Requirement already satisfied: requests[socks] in c:\\users\\yurimomo\\anaconda3\\envs\\py310\\lib\\site-packages (from gdown) (2.31.0)\n",
      "Requirement already satisfied: six in c:\\users\\yurimomo\\anaconda3\\envs\\py310\\lib\\site-packages (from gdown) (1.16.0)\n",
      "Requirement already satisfied: tqdm in c:\\users\\yurimomo\\anaconda3\\envs\\py310\\lib\\site-packages (from gdown) (4.66.1)\n",
      "Requirement already satisfied: beautifulsoup4 in c:\\users\\yurimomo\\anaconda3\\envs\\py310\\lib\\site-packages (from gdown) (4.12.2)\n",
      "Requirement already satisfied: matplotlib>=2.1.0 in c:\\users\\yurimomo\\anaconda3\\envs\\py310\\lib\\site-packages (from pycocotools) (3.8.2)\n",
      "Requirement already satisfied: numpy in c:\\users\\yurimomo\\anaconda3\\envs\\py310\\lib\\site-packages (from pycocotools) (1.26.3)\n",
      "Requirement already satisfied: contourpy>=1.0.1 in c:\\users\\yurimomo\\anaconda3\\envs\\py310\\lib\\site-packages (from matplotlib>=2.1.0->pycocotools) (1.2.0)\n",
      "Requirement already satisfied: cycler>=0.10 in c:\\users\\yurimomo\\anaconda3\\envs\\py310\\lib\\site-packages (from matplotlib>=2.1.0->pycocotools) (0.12.1)\n",
      "Requirement already satisfied: fonttools>=4.22.0 in c:\\users\\yurimomo\\anaconda3\\envs\\py310\\lib\\site-packages (from matplotlib>=2.1.0->pycocotools) (4.47.2)\n",
      "Requirement already satisfied: kiwisolver>=1.3.1 in c:\\users\\yurimomo\\anaconda3\\envs\\py310\\lib\\site-packages (from matplotlib>=2.1.0->pycocotools) (1.4.5)\n",
      "Requirement already satisfied: packaging>=20.0 in c:\\users\\yurimomo\\anaconda3\\envs\\py310\\lib\\site-packages (from matplotlib>=2.1.0->pycocotools) (23.1)\n",
      "Requirement already satisfied: pillow>=8 in c:\\users\\yurimomo\\anaconda3\\envs\\py310\\lib\\site-packages (from matplotlib>=2.1.0->pycocotools) (10.0.1)\n",
      "Requirement already satisfied: pyparsing>=2.3.1 in c:\\users\\yurimomo\\anaconda3\\envs\\py310\\lib\\site-packages (from matplotlib>=2.1.0->pycocotools) (3.1.1)\n",
      "Requirement already satisfied: python-dateutil>=2.7 in c:\\users\\yurimomo\\anaconda3\\envs\\py310\\lib\\site-packages (from matplotlib>=2.1.0->pycocotools) (2.8.2)\n",
      "Requirement already satisfied: importlib-resources>=3.2.0 in c:\\users\\yurimomo\\anaconda3\\envs\\py310\\lib\\site-packages (from matplotlib>=2.1.0->pycocotools) (6.1.1)\n",
      "Requirement already satisfied: soupsieve>1.2 in c:\\users\\yurimomo\\anaconda3\\envs\\py310\\lib\\site-packages (from beautifulsoup4->gdown) (2.5)\n",
      "Requirement already satisfied: charset-normalizer<4,>=2 in c:\\users\\yurimomo\\anaconda3\\envs\\py310\\lib\\site-packages (from requests[socks]->gdown) (2.0.4)\n",
      "Requirement already satisfied: idna<4,>=2.5 in c:\\users\\yurimomo\\anaconda3\\envs\\py310\\lib\\site-packages (from requests[socks]->gdown) (3.4)\n",
      "Requirement already satisfied: urllib3<3,>=1.21.1 in c:\\users\\yurimomo\\anaconda3\\envs\\py310\\lib\\site-packages (from requests[socks]->gdown) (1.26.18)\n",
      "Requirement already satisfied: certifi>=2017.4.17 in c:\\users\\yurimomo\\anaconda3\\envs\\py310\\lib\\site-packages (from requests[socks]->gdown) (2023.11.17)\n",
      "Requirement already satisfied: PySocks!=1.5.7,>=1.5.6 in c:\\users\\yurimomo\\anaconda3\\envs\\py310\\lib\\site-packages (from requests[socks]->gdown) (1.7.1)\n",
      "Requirement already satisfied: colorama in c:\\users\\yurimomo\\anaconda3\\envs\\py310\\lib\\site-packages (from tqdm->gdown) (0.4.6)\n",
      "Requirement already satisfied: zipp>=3.1.0 in c:\\users\\yurimomo\\anaconda3\\envs\\py310\\lib\\site-packages (from importlib-resources>=3.2.0->matplotlib>=2.1.0->pycocotools) (3.17.0)\n"
     ]
    }
   ],
   "source": [
    "!pip install gdown pycocotools"
   ]
  },
  {
   "cell_type": "code",
   "execution_count": 4,
   "metadata": {
    "id": "QIs_FCHIA9M4",
    "tags": []
   },
   "outputs": [],
   "source": [
    "#!rm -r GSN"
   ]
  },
  {
   "cell_type": "code",
   "execution_count": 5,
   "metadata": {
    "colab": {
     "base_uri": "https://localhost:8080/"
    },
    "id": "ArOKvShOt1j7",
    "outputId": "3de8a27d-00b5-4095-af64-f9475f5a49e2",
    "tags": []
   },
   "outputs": [
    {
     "name": "stdout",
     "output_type": "stream",
     "text": [
      "^C\n"
     ]
    }
   ],
   "source": [
    "!gdown https://drive.google.com/uc?id=1JVwgJeXSkcgoEDEuMDaG5HTFvqu7cerZ"
   ]
  },
  {
   "cell_type": "code",
   "execution_count": 6,
   "metadata": {
    "id": "XMDP8lqWwRr5",
    "outputId": "f8aff74c-96da-48ee-efb3-da0fa6223e9e"
   },
   "outputs": [],
   "source": [
    "#!unzip -q GSN.zip"
   ]
  },
  {
   "cell_type": "code",
   "execution_count": 10,
   "metadata": {
    "id": "GXhbQvkuzlwU",
    "scrolled": true,
    "tags": []
   },
   "outputs": [],
   "source": [
    "from GSN.WiderDataLoader.wider_loader import WiderFaceDataset\n",
    "from GSN.WiderDataLoader.wider_batch_iterator import BatchIterator\n",
    "from GSN.model.RetinaNet import RetinaNet, evaluate\n",
    "from GSN.model.Utils import show_image, draw_loss"
   ]
  },
  {
   "cell_type": "markdown",
   "metadata": {
    "id": "GrC-ph1A_-XS"
   },
   "source": [
    "# Test device"
   ]
  },
  {
   "cell_type": "code",
   "execution_count": 11,
   "metadata": {
    "colab": {
     "base_uri": "https://localhost:8080/"
    },
    "id": "aK3kWiSXAJv9",
    "outputId": "4c6f4ee4-a484-41ee-a780-e81a16725209"
   },
   "outputs": [
    {
     "name": "stdout",
     "output_type": "stream",
     "text": [
      "Fri Jan 12 16:13:07 2024       \n",
      "+---------------------------------------------------------------------------------------+\n",
      "| NVIDIA-SMI 546.33                 Driver Version: 546.33       CUDA Version: 12.3     |\n",
      "|-----------------------------------------+----------------------+----------------------+\n",
      "| GPU  Name                     TCC/WDDM  | Bus-Id        Disp.A | Volatile Uncorr. ECC |\n",
      "| Fan  Temp   Perf          Pwr:Usage/Cap |         Memory-Usage | GPU-Util  Compute M. |\n",
      "|                                         |                      |               MIG M. |\n",
      "|=========================================+======================+======================|\n",
      "|   0  NVIDIA GeForce RTX 2060      WDDM  | 00000000:26:00.0  On |                  N/A |\n",
      "| 57%   40C    P8              14W / 184W |   1442MiB / 12288MiB |     19%      Default |\n",
      "|                                         |                      |                  N/A |\n",
      "+-----------------------------------------+----------------------+----------------------+\n",
      "                                                                                         \n",
      "+---------------------------------------------------------------------------------------+\n",
      "| Processes:                                                                            |\n",
      "|  GPU   GI   CI        PID   Type   Process name                            GPU Memory |\n",
      "|        ID   ID                                                             Usage      |\n",
      "|=======================================================================================|\n",
      "|    0   N/A  N/A      1832    C+G   C:\\Windows\\explorer.exe                   N/A      |\n",
      "|    0   N/A  N/A      3420    C+G   ...\\cef\\cef.win7x64\\steamwebhelper.exe    N/A      |\n",
      "|    0   N/A  N/A      3784      C   ...les\\LibreOffice\\program\\soffice.bin    N/A      |\n",
      "|    0   N/A  N/A      5348    C+G   ...al\\Discord\\app-1.0.9030\\Discord.exe    N/A      |\n",
      "|    0   N/A  N/A      8468    C+G   ...315.0_x64__dt26b99r8h8gj\\RtkUWP.exe    N/A      |\n",
      "|    0   N/A  N/A      9600    C+G   ...Mozilla Thunderbird\\thunderbird.exe    N/A      |\n",
      "|    0   N/A  N/A     10472    C+G   ...2txyewy\\StartMenuExperienceHost.exe    N/A      |\n",
      "|    0   N/A  N/A     10656    C+G   ...m Files\\Mozilla Firefox\\firefox.exe    N/A      |\n",
      "|    0   N/A  N/A     10964    C+G   ....Search_cw5n1h2txyewy\\SearchApp.exe    N/A      |\n",
      "|    0   N/A  N/A     11684    C+G   ...5n1h2txyewy\\ShellExperienceHost.exe    N/A      |\n",
      "|    0   N/A  N/A     12620    C+G   ...siveControlPanel\\SystemSettings.exe    N/A      |\n",
      "|    0   N/A  N/A     12784    C+G   ...CBS_cw5n1h2txyewy\\TextInputHost.exe    N/A      |\n",
      "|    0   N/A  N/A     12844    C+G   ...re\\VMware Player\\x64\\mksSandbox.exe    N/A      |\n",
      "|    0   N/A  N/A     15080    C+G   C:\\Program Files\\LGHUB\\lghub.exe          N/A      |\n",
      "|    0   N/A  N/A     15364    C+G   ...m Files\\Mozilla Firefox\\firefox.exe    N/A      |\n",
      "|    0   N/A  N/A     20904    C+G   ...64__8wekyb3d8bbwe\\CalculatorApp.exe    N/A      |\n",
      "|    0   N/A  N/A     22616    C+G   ...jdk-21.0.0.35-hotspot\\bin\\javaw.exe    N/A      |\n",
      "+---------------------------------------------------------------------------------------+\n"
     ]
    }
   ],
   "source": [
    "!nvidia-smi"
   ]
  },
  {
   "cell_type": "code",
   "execution_count": 12,
   "metadata": {
    "colab": {
     "base_uri": "https://localhost:8080/"
    },
    "id": "q4hVO3ABAG4f",
    "outputId": "342fcb88-dfb9-4de8-f293-d7d94e07393d"
   },
   "outputs": [
    {
     "data": {
      "text/plain": [
       "device(type='cuda')"
      ]
     },
     "execution_count": 12,
     "metadata": {},
     "output_type": "execute_result"
    }
   ],
   "source": [
    "device = torch.device(\"cuda\" if torch.cuda.is_available() else \"cpu\")\n",
    "device"
   ]
  },
  {
   "cell_type": "markdown",
   "metadata": {
    "id": "Ty2SGy3N_5qh"
   },
   "source": [
    "# Prepare data"
   ]
  },
  {
   "cell_type": "markdown",
   "metadata": {
    "id": "---rYRs-QJrS"
   },
   "source": [
    "## Set variables"
   ]
  },
  {
   "cell_type": "code",
   "execution_count": 13,
   "metadata": {
    "id": "9nzu0reLBTos"
   },
   "outputs": [],
   "source": [
    "DATA_DIR = 'WIDER'\n",
    "NUM_CLASSES = 1\n",
    "BATCH_SIZE = 20\n",
    "LEARNING_RATE = 2e-5\n",
    "EPOCHS_NUM = 10"
   ]
  },
  {
   "cell_type": "markdown",
   "metadata": {
    "id": "2L-8WNWaJRvg"
   },
   "source": [
    "## Download dataset"
   ]
  },
  {
   "cell_type": "code",
   "execution_count": 14,
   "metadata": {
    "id": "TpwkhuPmV48o"
   },
   "outputs": [],
   "source": [
    "#!rm -r WIDER\n",
    "#!gdown \"1jDU6gTyKwWDZL0YRuKhxz69rmjVJmVRW\""
   ]
  },
  {
   "cell_type": "code",
   "execution_count": 15,
   "metadata": {
    "id": "AtQAYaOgdJ7U"
   },
   "outputs": [],
   "source": [
    "#!unzip -q WIDER.zip"
   ]
  },
  {
   "cell_type": "code",
   "execution_count": 16,
   "metadata": {
    "id": "Va0yNr8B_8ZL"
   },
   "outputs": [],
   "source": [
    "transform = Compose([ToPILImage(), Resize((512, 800)), ToTensor(),Normalize([0.485, 0.456, 0.406], [0.229, 0.224, 0.225])])"
   ]
  },
  {
   "cell_type": "code",
   "execution_count": 17,
   "metadata": {
    "colab": {
     "base_uri": "https://localhost:8080/"
    },
    "id": "A4RAgqI6BNHL",
    "outputId": "98b5d630-eb44-424a-e647-47fcff4f9842"
   },
   "outputs": [
    {
     "name": "stdout",
     "output_type": "stream",
     "text": [
      "Files already downloaded and verified\n",
      "Files already downloaded and verified\n",
      "Files already downloaded and verified\n"
     ]
    }
   ],
   "source": [
    "wider_train_dataset = WiderFaceDataset(DATA_DIR, split='train', transform=transform, augment=True)\n",
    "wider_val_dataset = WiderFaceDataset(DATA_DIR, split='val', transform=transform, augment=False)\n",
    "wider_test_dataset = WiderFaceDataset(DATA_DIR, split='test', transform=transform, augment=False)\n",
    "\n",
    "train_data = BatchIterator(wider_train_dataset, batch_size=BATCH_SIZE, shuffle=True)\n",
    "val_data = BatchIterator(wider_val_dataset, batch_size=BATCH_SIZE, shuffle=False)\n",
    "test_data = BatchIterator(wider_test_dataset, batch_size=BATCH_SIZE, shuffle=False)"
   ]
  },
  {
   "cell_type": "markdown",
   "metadata": {
    "id": "q89qvKMcnXU_"
   },
   "source": [
    "## Prepare drive to save model"
   ]
  },
  {
   "cell_type": "markdown",
   "metadata": {
    "id": "tasHFF5aI_3I"
   },
   "source": [
    "To save model weights on google drive"
   ]
  },
  {
   "cell_type": "code",
   "execution_count": 18,
   "metadata": {
    "id": "uWrRiHGtI_Sr"
   },
   "outputs": [],
   "source": [
    "#from google.colab import drive\n",
    "#drive.mount('/content/gdrive')"
   ]
  },
  {
   "cell_type": "code",
   "execution_count": 19,
   "metadata": {
    "id": "lYv3ADI2QFra"
   },
   "outputs": [],
   "source": [
    "#drive_path = '/content/'\n",
    "#drive_path = '/content/gdrive/MyDrive/Colab Notebooks/GSN_PROJ_FILES/RetinaNet_weights/'\n",
    "drive_path = 'RetinaNet_weights/'"
   ]
  },
  {
   "cell_type": "markdown",
   "metadata": {
    "id": "d30puA4wCJyH"
   },
   "source": [
    "# Model"
   ]
  },
  {
   "cell_type": "markdown",
   "metadata": {
    "id": "G-8N5Z15XEKK"
   },
   "source": [
    "## Init"
   ]
  },
  {
   "cell_type": "markdown",
   "metadata": {
    "id": "beLI6ac2GVW0"
   },
   "source": [
    "### Init new model"
   ]
  },
  {
   "cell_type": "code",
   "execution_count": 20,
   "metadata": {
    "id": "voTeQtxTB7Is"
   },
   "outputs": [],
   "source": [
    "model = RetinaNet().to(device)"
   ]
  },
  {
   "cell_type": "markdown",
   "metadata": {
    "id": "aL_aIky7GZSt"
   },
   "source": [
    "### Download and init pretrain model"
   ]
  },
  {
   "cell_type": "code",
   "execution_count": 21,
   "metadata": {
    "id": "tZ7MaJo2Gbxf"
   },
   "outputs": [],
   "source": [
    "# !gdown  10JQgb01MsceilLNixz1abdkpZzl4sht3 # pretrained on 20 epochs"
   ]
  },
  {
   "cell_type": "code",
   "execution_count": 22,
   "metadata": {
    "id": "KJDtUFNxG0Pm",
    "scrolled": true
   },
   "outputs": [
    {
     "data": {
      "text/plain": [
       "<All keys matched successfully>"
      ]
     },
     "execution_count": 22,
     "metadata": {},
     "output_type": "execute_result"
    }
   ],
   "source": [
    "saved_weights = torch.load('model_59.pth', map_location=device)\n",
    "model.load_state_dict(saved_weights)"
   ]
  },
  {
   "cell_type": "markdown",
   "metadata": {
    "id": "YHTS8bP2GlnQ"
   },
   "source": [
    "### Init optimizer"
   ]
  },
  {
   "cell_type": "code",
   "execution_count": 23,
   "metadata": {
    "id": "grmdOt9sCOio"
   },
   "outputs": [],
   "source": [
    "optimizer = optim.Adam(model.parameters(), lr=LEARNING_RATE)\n",
    "scheduler = torch.optim.lr_scheduler.StepLR(optimizer, step_size=2, gamma=0.8)"
   ]
  },
  {
   "cell_type": "markdown",
   "metadata": {
    "id": "mARmTh6vW_Oy"
   },
   "source": [
    "## Train"
   ]
  },
  {
   "cell_type": "code",
   "execution_count": 24,
   "metadata": {
    "colab": {
     "base_uri": "https://localhost:8080/",
     "height": 110
    },
    "id": "528hM_nyHIwd",
    "outputId": "1a06e857-654a-4c00-ca5f-6f8ec2cea6f3"
   },
   "outputs": [
    {
     "data": {
      "text/plain": [
       "'|===========================================================================|\\n|                  PyTorch CUDA memory summary, device ID 0                 |\\n|---------------------------------------------------------------------------|\\n|            CUDA OOMs: 0            |        cudaMalloc retries: 0         |\\n|===========================================================================|\\n|        Metric         | Cur Usage  | Peak Usage | Tot Alloc  | Tot Freed  |\\n|---------------------------------------------------------------------------|\\n| Allocated memory      | 285845 KiB | 285845 KiB | 285845 KiB |      0 B   |\\n|       from large pool | 246272 KiB | 246272 KiB | 246272 KiB |      0 B   |\\n|       from small pool |  39573 KiB |  39573 KiB |  39573 KiB |      0 B   |\\n|---------------------------------------------------------------------------|\\n| Active memory         | 285845 KiB | 285845 KiB | 285845 KiB |      0 B   |\\n|       from large pool | 246272 KiB | 246272 KiB | 246272 KiB |      0 B   |\\n|       from small pool |  39573 KiB |  39573 KiB |  39573 KiB |      0 B   |\\n|---------------------------------------------------------------------------|\\n| Requested memory      | 279632 KiB | 279632 KiB | 279632 KiB |      0 B   |\\n|       from large pool | 240128 KiB | 240128 KiB | 240128 KiB |      0 B   |\\n|       from small pool |  39504 KiB |  39504 KiB |  39504 KiB |      0 B   |\\n|---------------------------------------------------------------------------|\\n| GPU reserved memory   | 303104 KiB | 303104 KiB | 303104 KiB |      0 B   |\\n|       from large pool | 262144 KiB | 262144 KiB | 262144 KiB |      0 B   |\\n|       from small pool |  40960 KiB |  40960 KiB |  40960 KiB |      0 B   |\\n|---------------------------------------------------------------------------|\\n| Non-releasable memory |  17259 KiB |  29273 KiB | 192203 KiB | 174944 KiB |\\n|       from large pool |  15872 KiB |  28160 KiB | 167168 KiB | 151296 KiB |\\n|       from small pool |   1387 KiB |   2011 KiB |  25035 KiB |  23648 KiB |\\n|---------------------------------------------------------------------------|\\n| Allocations           |     704    |     704    |     704    |       0    |\\n|       from large pool |      60    |      60    |      60    |       0    |\\n|       from small pool |     644    |     644    |     644    |       0    |\\n|---------------------------------------------------------------------------|\\n| Active allocs         |     704    |     704    |     704    |       0    |\\n|       from large pool |      60    |      60    |      60    |       0    |\\n|       from small pool |     644    |     644    |     644    |       0    |\\n|---------------------------------------------------------------------------|\\n| GPU reserved segments |      33    |      33    |      33    |       0    |\\n|       from large pool |      13    |      13    |      13    |       0    |\\n|       from small pool |      20    |      20    |      20    |       0    |\\n|---------------------------------------------------------------------------|\\n| Non-releasable allocs |       4    |       7    |      31    |      27    |\\n|       from large pool |       1    |       5    |      11    |      10    |\\n|       from small pool |       3    |       5    |      20    |      17    |\\n|---------------------------------------------------------------------------|\\n| Oversize allocations  |       0    |       0    |       0    |       0    |\\n|---------------------------------------------------------------------------|\\n| Oversize GPU segments |       0    |       0    |       0    |       0    |\\n|===========================================================================|\\n'"
      ]
     },
     "execution_count": 24,
     "metadata": {},
     "output_type": "execute_result"
    }
   ],
   "source": [
    "torch.cuda.empty_cache()\n",
    "torch.cuda.memory_summary(device=None, abbreviated=False)"
   ]
  },
  {
   "cell_type": "code",
   "execution_count": 25,
   "metadata": {
    "colab": {
     "base_uri": "https://localhost:8080/",
     "height": 274
    },
    "id": "yHBt1Sb8IUKl",
    "outputId": "f6fb10fd-ab80-417d-c47e-92ac1e97b335"
   },
   "outputs": [
    {
     "name": "stderr",
     "output_type": "stream",
     "text": [
      "Epoch 0: 184it [06:33,  2.14s/it]                                                                                      \n"
     ]
    },
    {
     "name": "stdout",
     "output_type": "stream",
     "text": [
      "Epoch: 0/10 | Average Loss: 1.1240454494305279 | Classification loss: 0.46945 | Regression loss: 0.65459\n",
      "Evaluate | Average Loss: 1.2219015670859295 | Classification loss: 0.43715 | Regression loss: 0.78475\n",
      "creating index...\n",
      "index created!\n",
      "Loading and preparing results...\n",
      "DONE (t=0.12s)\n",
      "creating index...\n",
      "index created!\n",
      "Running per image evaluation...\n",
      "Evaluate annotation type *bbox*\n",
      "DONE (t=5.95s).\n",
      "Accumulating evaluation results...\n",
      "DONE (t=0.25s).\n",
      " Average Precision  (AP) @[ IoU=0.50:0.95 | area=   all | maxDets=100 ] = 0.075\n",
      " Average Precision  (AP) @[ IoU=0.50      | area=   all | maxDets=100 ] = 0.293\n",
      " Average Precision  (AP) @[ IoU=0.75      | area=   all | maxDets=100 ] = 0.008\n",
      " Average Precision  (AP) @[ IoU=0.50:0.95 | area= small | maxDets=100 ] = 0.070\n",
      " Average Precision  (AP) @[ IoU=0.50:0.95 | area=medium | maxDets=100 ] = 0.132\n",
      " Average Precision  (AP) @[ IoU=0.50:0.95 | area= large | maxDets=100 ] = 0.084\n",
      " Average Recall     (AR) @[ IoU=0.50:0.95 | area=   all | maxDets=  1 ] = 0.036\n",
      " Average Recall     (AR) @[ IoU=0.50:0.95 | area=   all | maxDets= 10 ] = 0.133\n",
      " Average Recall     (AR) @[ IoU=0.50:0.95 | area=   all | maxDets=100 ] = 0.194\n",
      " Average Recall     (AR) @[ IoU=0.50:0.95 | area= small | maxDets=100 ] = 0.135\n",
      " Average Recall     (AR) @[ IoU=0.50:0.95 | area=medium | maxDets=100 ] = 0.338\n",
      " Average Recall     (AR) @[ IoU=0.50:0.95 | area= large | maxDets=100 ] = 0.311\n"
     ]
    },
    {
     "name": "stderr",
     "output_type": "stream",
     "text": [
      "Epoch 1: 184it [06:43,  2.19s/it]                                                                                      \n"
     ]
    },
    {
     "name": "stdout",
     "output_type": "stream",
     "text": [
      "Epoch: 1/10 | Average Loss: 1.01141928460287 | Classification loss: 0.38928 | Regression loss: 0.62214\n",
      "Evaluate | Average Loss: 1.1906053553456846 | Classification loss: 0.42389 | Regression loss: 0.76671\n",
      "Saved model!\n"
     ]
    },
    {
     "name": "stderr",
     "output_type": "stream",
     "text": [
      "Epoch 2: 184it [06:33,  2.14s/it]                                                                                      \n"
     ]
    },
    {
     "name": "stdout",
     "output_type": "stream",
     "text": [
      "Epoch: 2/10 | Average Loss: 0.9789986555343089 | Classification loss: 0.37598 | Regression loss: 0.60301\n",
      "Evaluate | Average Loss: 1.25945093061613 | Classification loss: 0.46301 | Regression loss: 0.79644\n"
     ]
    },
    {
     "name": "stderr",
     "output_type": "stream",
     "text": [
      "Epoch 3: 184it [05:59,  1.95s/it]                                                                                      \n"
     ]
    },
    {
     "name": "stdout",
     "output_type": "stream",
     "text": [
      "Epoch: 3/10 | Average Loss: 0.9591661085901053 | Classification loss: 0.36335 | Regression loss: 0.59582\n",
      "Evaluate | Average Loss: 1.2292283345823702 | Classification loss: 0.49285 | Regression loss: 0.73638\n"
     ]
    },
    {
     "name": "stderr",
     "output_type": "stream",
     "text": [
      "Epoch 4: 184it [05:58,  1.95s/it]                                                                                      \n"
     ]
    },
    {
     "name": "stdout",
     "output_type": "stream",
     "text": [
      "Epoch: 4/10 | Average Loss: 0.9375138088412907 | Classification loss: 0.35443 | Regression loss: 0.58308\n",
      "Evaluate | Average Loss: 1.2338563929433408 | Classification loss: 0.43527 | Regression loss: 0.79858\n",
      "creating index...\n",
      "index created!\n",
      "Loading and preparing results...\n",
      "DONE (t=0.14s)\n",
      "creating index...\n",
      "index created!\n",
      "Running per image evaluation...\n",
      "Evaluate annotation type *bbox*\n",
      "DONE (t=6.14s).\n",
      "Accumulating evaluation results...\n",
      "DONE (t=0.25s).\n",
      " Average Precision  (AP) @[ IoU=0.50:0.95 | area=   all | maxDets=100 ] = 0.070\n",
      " Average Precision  (AP) @[ IoU=0.50      | area=   all | maxDets=100 ] = 0.298\n",
      " Average Precision  (AP) @[ IoU=0.75      | area=   all | maxDets=100 ] = 0.006\n",
      " Average Precision  (AP) @[ IoU=0.50:0.95 | area= small | maxDets=100 ] = 0.057\n",
      " Average Precision  (AP) @[ IoU=0.50:0.95 | area=medium | maxDets=100 ] = 0.120\n",
      " Average Precision  (AP) @[ IoU=0.50:0.95 | area= large | maxDets=100 ] = 0.106\n",
      " Average Recall     (AR) @[ IoU=0.50:0.95 | area=   all | maxDets=  1 ] = 0.034\n",
      " Average Recall     (AR) @[ IoU=0.50:0.95 | area=   all | maxDets= 10 ] = 0.121\n",
      " Average Recall     (AR) @[ IoU=0.50:0.95 | area=   all | maxDets=100 ] = 0.180\n",
      " Average Recall     (AR) @[ IoU=0.50:0.95 | area= small | maxDets=100 ] = 0.120\n",
      " Average Recall     (AR) @[ IoU=0.50:0.95 | area=medium | maxDets=100 ] = 0.325\n",
      " Average Recall     (AR) @[ IoU=0.50:0.95 | area= large | maxDets=100 ] = 0.307\n"
     ]
    },
    {
     "name": "stderr",
     "output_type": "stream",
     "text": [
      "Epoch 5: 184it [06:20,  2.07s/it]                                                                                      \n"
     ]
    },
    {
     "name": "stdout",
     "output_type": "stream",
     "text": [
      "Epoch: 5/10 | Average Loss: 0.9284420447505038 | Classification loss: 0.34462 | Regression loss: 0.58382\n",
      "Evaluate | Average Loss: 1.255429762861003 | Classification loss: 0.44754 | Regression loss: 0.80789\n"
     ]
    },
    {
     "name": "stderr",
     "output_type": "stream",
     "text": [
      "Epoch 6: 184it [06:35,  2.15s/it]                                                                                      \n"
     ]
    },
    {
     "name": "stdout",
     "output_type": "stream",
     "text": [
      "Epoch: 6/10 | Average Loss: 0.9128422040654265 | Classification loss: 0.33956 | Regression loss: 0.57328\n",
      "Evaluate | Average Loss: 1.1785399512104366 | Classification loss: 0.41839 | Regression loss: 0.76015\n",
      "Saved model!\n"
     ]
    },
    {
     "name": "stderr",
     "output_type": "stream",
     "text": [
      "Epoch 7: 184it [05:51,  1.91s/it]                                                                                      \n"
     ]
    },
    {
     "name": "stdout",
     "output_type": "stream",
     "text": [
      "Epoch: 7/10 | Average Loss: 0.9166757383424303 | Classification loss: 0.33831 | Regression loss: 0.57837\n",
      "Evaluate | Average Loss: 1.1795309937518577 | Classification loss: 0.41813 | Regression loss: 0.76140\n"
     ]
    },
    {
     "name": "stderr",
     "output_type": "stream",
     "text": [
      "Epoch 8: 184it [05:48,  1.89s/it]                                                                                      \n"
     ]
    },
    {
     "name": "stdout",
     "output_type": "stream",
     "text": [
      "Epoch: 8/10 | Average Loss: 0.9040745972939159 | Classification loss: 0.33341 | Regression loss: 0.57067\n",
      "Evaluate | Average Loss: 1.2145778821862263 | Classification loss: 0.45582 | Regression loss: 0.75876\n",
      "creating index...\n",
      "index created!\n",
      "Loading and preparing results...\n",
      "DONE (t=0.13s)\n",
      "creating index...\n",
      "index created!\n",
      "Running per image evaluation...\n",
      "Evaluate annotation type *bbox*\n",
      "DONE (t=6.34s).\n",
      "Accumulating evaluation results...\n",
      "DONE (t=0.26s).\n",
      " Average Precision  (AP) @[ IoU=0.50:0.95 | area=   all | maxDets=100 ] = 0.081\n",
      " Average Precision  (AP) @[ IoU=0.50      | area=   all | maxDets=100 ] = 0.330\n",
      " Average Precision  (AP) @[ IoU=0.75      | area=   all | maxDets=100 ] = 0.007\n",
      " Average Precision  (AP) @[ IoU=0.50:0.95 | area= small | maxDets=100 ] = 0.067\n",
      " Average Precision  (AP) @[ IoU=0.50:0.95 | area=medium | maxDets=100 ] = 0.141\n",
      " Average Precision  (AP) @[ IoU=0.50:0.95 | area= large | maxDets=100 ] = 0.102\n",
      " Average Recall     (AR) @[ IoU=0.50:0.95 | area=   all | maxDets=  1 ] = 0.037\n",
      " Average Recall     (AR) @[ IoU=0.50:0.95 | area=   all | maxDets= 10 ] = 0.130\n",
      " Average Recall     (AR) @[ IoU=0.50:0.95 | area=   all | maxDets=100 ] = 0.192\n",
      " Average Recall     (AR) @[ IoU=0.50:0.95 | area= small | maxDets=100 ] = 0.134\n",
      " Average Recall     (AR) @[ IoU=0.50:0.95 | area=medium | maxDets=100 ] = 0.338\n",
      " Average Recall     (AR) @[ IoU=0.50:0.95 | area= large | maxDets=100 ] = 0.299\n"
     ]
    },
    {
     "name": "stderr",
     "output_type": "stream",
     "text": [
      "Epoch 9: 184it [06:49,  2.23s/it]                                                                                      \n"
     ]
    },
    {
     "name": "stdout",
     "output_type": "stream",
     "text": [
      "Epoch: 9/10 | Average Loss: 0.9003444372311883 | Classification loss: 0.33177 | Regression loss: 0.56857\n",
      "Evaluate | Average Loss: 1.2275062747623608 | Classification loss: 0.44730 | Regression loss: 0.78021\n"
     ]
    }
   ],
   "source": [
    "loss_hist = collections.deque(maxlen=500)\n",
    "regr_hist = collections.deque(maxlen=500)\n",
    "clas_hist = collections.deque(maxlen=500)\n",
    "loss_val_hist = collections.deque(maxlen=500)\n",
    "regr_val_hist = collections.deque(maxlen=500)\n",
    "clas_val_hist = collections.deque(maxlen=500)\n",
    "best_valid_loss = float('Inf')\n",
    "\n",
    "for epoch_num in range(EPOCHS_NUM):\n",
    "    epoch_loss = []\n",
    "    regr_loss = []\n",
    "    clas_loss = []\n",
    "\n",
    "    model.train()\n",
    "    for iter_num, data in enumerate(tqdm(train_data, desc=f'Epoch {epoch_num}')):\n",
    "        optimizer.zero_grad()\n",
    "\n",
    "        if torch.cuda.is_available():\n",
    "            classification_loss, regression_loss = model([data['img'].cuda().float(), data['boxes_list'].cuda()])\n",
    "        else:\n",
    "            classification_loss, regression_loss = model([data['img'].float(), data['boxes_list']])\n",
    "        loss = classification_loss + regression_loss\n",
    "        if loss == 0:\n",
    "            continue\n",
    "        epoch_loss.append(float(loss))\n",
    "        regr_loss.append(float(regression_loss))\n",
    "        clas_loss.append(float(classification_loss))\n",
    "        loss.backward()\n",
    "        torch.nn.utils.clip_grad_norm_(model.parameters(), 0.1)\n",
    "        optimizer.step()\n",
    "\n",
    "\n",
    "    average_loss = np.mean(epoch_loss)\n",
    "    average_clas_loss = np.mean(clas_loss)\n",
    "    average_regr_loss = np.mean(regr_loss)\n",
    "    loss_hist.append(average_loss)\n",
    "    regr_hist.append(average_regr_loss)\n",
    "    clas_hist.append(average_clas_loss)\n",
    "    print(f'Epoch: {epoch_num}/{EPOCHS_NUM} | Average Loss: {average_loss} | Classification loss: {float(average_clas_loss):1.5f} | Regression loss: {float(average_regr_loss):1.5f}')\n",
    "    scheduler.step()\n",
    "\n",
    "    epoch_loss = []\n",
    "    regr_loss = []\n",
    "    clas_loss = []\n",
    "    for iter_num, data in enumerate(val_data):\n",
    "        if torch.cuda.is_available():\n",
    "            classification_loss, regression_loss = model([data['img'].cuda().float(), data['boxes_list'].cuda()])\n",
    "        else:\n",
    "            classification_loss, regression_loss = model([data['img'].float(), data['boxes_list']])\n",
    "        loss = classification_loss + regression_loss\n",
    "        if bool(loss == 0):\n",
    "            continue\n",
    "        epoch_loss.append(float(loss))\n",
    "        regr_loss.append(float(regression_loss))\n",
    "        clas_loss.append(float(classification_loss))\n",
    "    average_loss = np.mean(epoch_loss)\n",
    "    average_clas_loss = np.mean(clas_loss)\n",
    "    average_regr_loss = np.mean(regr_loss)\n",
    "    loss_val_hist.append(average_loss)\n",
    "    regr_val_hist.append(average_regr_loss)\n",
    "    clas_val_hist.append(average_clas_loss)\n",
    "    print(\n",
    "        f'Evaluate | Average Loss: {average_loss} | Classification loss: {float(average_clas_loss):1.5f} | Regression loss: {float(average_regr_loss):1.5f}')\n",
    "\n",
    "\n",
    "    if epoch_num % 4 == 0:\n",
    "      try:\n",
    "          model.eval()\n",
    "          evaluate(dataset=wider_val_dataset, model=model, threshold=0.05)\n",
    "      except Exception as e:\n",
    "          print(f\"Error: {e}\")\n",
    "\n",
    "    if epoch_num > EPOCHS_NUM-10 and best_valid_loss > average_loss:\n",
    "        best_valid_loss = average_loss\n",
    "        filename = f'model_{epoch_num}.pth'\n",
    "        print(\"Saved model!\")\n",
    "        torch.save(model.state_dict(), drive_path + \"training/\" + filename)\n",
    "    if epoch_num+1 % 20 == 0:\n",
    "        filename = f'model_{epoch_num}.pth'\n",
    "        print(\"Saved model!\")\n",
    "        torch.save(model.state_dict(), drive_path + \"training/\" + filename)"
   ]
  },
  {
   "cell_type": "code",
   "execution_count": 26,
   "metadata": {
    "id": "gj33DfF6Wwf6",
    "outputId": "2e74c3d5-d2a6-4e08-fc98-62622abe13ad"
   },
   "outputs": [
    {
     "data": {
      "image/png": "[encoded data removed]",
      "text/plain": [
       "<Figure size 1000x500 with 3 Axes>"
      ]
     },
     "metadata": {},
     "output_type": "display_data"
    }
   ],
   "source": [
    "import matplotlib.pyplot as plt\n",
    "\n",
    "epochs = range(1, len(regr_hist) + 1)\n",
    "\n",
    "plt.figure(figsize=(10, 5))\n",
    "plt.subplot(1, 3, 1)\n",
    "plt.plot(epochs, regr_hist, 'b', label='Błąd treningowy regresji')\n",
    "plt.plot(epochs, regr_val_hist, 'r', label='Błąd walidacyjny regresji')\n",
    "plt.title('Błąd Regresji od Epoki')\n",
    "plt.xlabel('Epoki')\n",
    "plt.ylabel('Błąd Regresji')\n",
    "plt.grid()\n",
    "plt.legend()\n",
    "\n",
    "plt.subplot(1, 3, 2)\n",
    "plt.plot(epochs, clas_hist, 'b', label='Błąd treningowy klasyfikacji')\n",
    "plt.plot(epochs, clas_val_hist, 'r', label='Błąd walidacyjny klasyfikacji')\n",
    "plt.title('Błąd Klasyfikacji od Epoki')\n",
    "plt.xlabel('Epoki')\n",
    "plt.ylabel('Błąd Klasyfikacji')\n",
    "plt.grid()\n",
    "plt.legend()\n",
    "\n",
    "plt.subplot(1, 3, 3)\n",
    "plt.plot(epochs, loss_hist, 'b', label='Błąd treningowy detekcji')\n",
    "plt.plot(epochs, loss_val_hist, 'r', label='Błąd walidacyjny detekcji')\n",
    "plt.title('Błąd detekcji od Epoki')\n",
    "plt.xlabel('Epoki')\n",
    "plt.ylabel('Błąd detekcji')\n",
    "plt.grid()\n",
    "plt.legend()\n",
    "\n",
    "plt.tight_layout()\n",
    "plt.show()"
   ]
  },
  {
   "cell_type": "markdown",
   "metadata": {
    "id": "6YWOwyNaGGNl",
    "tags": []
   },
   "source": [
    "## Training loss"
   ]
  },
  {
   "cell_type": "markdown",
   "metadata": {
    "id": "xYlObmWx5Uyy"
   },
   "source": [
    "## Evaluate loaded model"
   ]
  },
  {
   "cell_type": "code",
   "execution_count": null,
   "metadata": {
    "colab": {
     "base_uri": "https://localhost:8080/"
    },
    "id": "jkkBfFOS5UW4",
    "outputId": "689bc561-34b8-41f5-ee2d-3ba24d661a1a"
   },
   "outputs": [
    {
     "name": "stdout",
     "output_type": "stream",
     "text": [
      "852/920\r"
     ]
    }
   ],
   "source": [
    "model.eval()\n",
    "try:\n",
    "    evaluate(dataset=wider_val_dataset, model=model, threshold=0.1)\n",
    "except Exception as e:\n",
    "    print(f\"Error: {e}\")"
   ]
  },
  {
   "cell_type": "markdown",
   "metadata": {
    "id": "h7UkRxycVpFp"
   },
   "source": [
    "## Predict boxes in images using a loaded model"
   ]
  },
  {
   "cell_type": "code",
   "execution_count": null,
   "metadata": {
    "colab": {
     "base_uri": "https://localhost:8080/"
    },
    "id": "AGXQQxrNlZO-",
    "outputId": "883351c7-b30a-450e-9af8-0e175a95b9be"
   },
   "outputs": [],
   "source": [
    "print(len(wider_val_dataset))\n",
    "\n",
    "print(model)"
   ]
  },
  {
   "cell_type": "code",
   "execution_count": null,
   "metadata": {
    "colab": {
     "base_uri": "https://localhost:8080/",
     "height": 1000
    },
    "id": "q6Ge80I7Vof0",
    "outputId": "3e35695e-cb6c-4fc8-eb85-89b6223af2bb",
    "tags": []
   },
   "outputs": [],
   "source": [
    "model.set_eval_thresholds(nms_threshold=0.5, score_threshold=0.25)\n",
    "for i in range(0, len(wider_val_dataset), 20):\n",
    "    data = wider_val_dataset[i]\n",
    "    model.eval()\n",
    "    if torch.cuda.is_available():\n",
    "        scores, labels, boxes = model([data['img'].cuda().float().unsqueeze(0), data['boxes_list'].cuda().unsqueeze(0)])\n",
    "    else:\n",
    "        scores, labels, boxes = model([data['img'].float().unsqueeze(0), data['boxes_list'].unsqueeze(0)])\n",
    "    mean=[0.485, 0.456, 0.406]\n",
    "    std=[0.229, 0.224, 0.225]\n",
    "    inverse_normalize_transform = Normalize(\n",
    "        mean=[-m / s for m, s in zip(mean, std)],\n",
    "        std=[1 / s for s in std]\n",
    "    )\n",
    "    image = inverse_normalize_transform(data['img'])\n",
    "\n",
    "    boxes = boxes.cpu()\n",
    "    with torch.no_grad():\n",
    "        show_image(image, boxes)"
   ]
  },
  {
   "cell_type": "code",
   "execution_count": null,
   "metadata": {
    "id": "zMikMMLjWWPt"
   },
   "outputs": [],
   "source": []
  },
  {
   "cell_type": "code",
   "execution_count": null,
   "metadata": {},
   "outputs": [],
   "source": []
  }
 ],
 "metadata": {
  "accelerator": "GPU",
  "colab": {
   "provenance": []
  },
  "kernelspec": {
   "display_name": "Python 3 (ipykernel)",
   "language": "python",
   "name": "python3"
  },
  "language_info": {
   "codemirror_mode": {
    "name": "ipython",
    "version": 3
   },
   "file_extension": ".py",
   "mimetype": "text/x-python",
   "name": "python",
   "nbconvert_exporter": "python",
   "pygments_lexer": "ipython3",
   "version": "3.9.18"
  }
 },
 "nbformat": 4,
 "nbformat_minor": 4
}
